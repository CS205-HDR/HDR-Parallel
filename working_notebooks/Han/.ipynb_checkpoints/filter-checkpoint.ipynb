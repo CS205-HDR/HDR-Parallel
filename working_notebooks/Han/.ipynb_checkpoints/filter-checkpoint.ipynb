{
 "cells": [
  {
   "cell_type": "code",
   "execution_count": 1,
   "metadata": {
    "collapsed": true
   },
   "outputs": [],
   "source": [
    "from PIL import Image\n",
    "import matplotlib.pyplot as plt\n",
    "#%matplotlib inline\n",
    "import numpy as np\n",
    "import scipy\n",
    "from scipy import ndimage\n",
    "import matplotlib.pyplot as plt"
   ]
  },
  {
   "cell_type": "code",
   "execution_count": 2,
   "metadata": {
    "collapsed": true
   },
   "outputs": [],
   "source": [
    "im0 = Image.open(\"orig_0.jpg\")\n",
    "im1 = Image.open(\"orig_1.jpg\")\n",
    "im2 = Image.open(\"orig_2.jpg\")\n",
    "im3 = Image.open(\"orig_3.jpg\")"
   ]
  },
  {
   "cell_type": "code",
   "execution_count": 10,
   "metadata": {
    "collapsed": true
   },
   "outputs": [],
   "source": [
    "id0 = np.array(im0.getdata())\n",
    "id1 = np.array(im1.getdata())\n",
    "id2 = np.array(im2.getdata())\n",
    "id3 = np.array(im3.getdata())\n",
    "\n",
    "id_comp = (id0+id1+id2+id3)/4"
   ]
  },
  {
   "cell_type": "code",
   "execution_count": 15,
   "metadata": {
    "collapsed": true
   },
   "outputs": [],
   "source": [
    "id_comp2 = np.reshape(id_comp, (612,816,3)).astype(np.uint8)"
   ]
  },
  {
   "cell_type": "code",
   "execution_count": 16,
   "metadata": {
    "collapsed": false
   },
   "outputs": [
    {
     "data": {
      "text/plain": [
       "(612, 816, 3)"
      ]
     },
     "execution_count": 16,
     "metadata": {},
     "output_type": "execute_result"
    }
   ],
   "source": [
    "id_comp2.shape"
   ]
  },
  {
   "cell_type": "code",
   "execution_count": 17,
   "metadata": {
    "collapsed": true
   },
   "outputs": [],
   "source": [
    "im_comp = Image.fromarray(id_comp2, 'RGB')\n",
    "im_comp.show()"
   ]
  },
  {
   "cell_type": "markdown",
   "metadata": {},
   "source": [
    "### Adding sharpening technique"
   ]
  },
  {
   "cell_type": "code",
   "execution_count": 54,
   "metadata": {
    "collapsed": true
   },
   "outputs": [],
   "source": [
    "blurred_f = ndimage.gaussian_filter(id_comp2, 3)\n",
    "filter_blurred_f = ndimage.gaussian_filter(blurred_f, 1)\n",
    "alpha = 30\n",
    "sharpened = blurred_f + alpha * (blurred_f - filter_blurred_f)"
   ]
  },
  {
   "cell_type": "code",
   "execution_count": 65,
   "metadata": {
    "collapsed": false
   },
   "outputs": [],
   "source": [
    "im_comp = Image.fromarray(sharpened, 'RGB')\n",
    "im_comp.show()\n",
    "\n",
    "#plt.figure(figsize=(12, 4))\n",
    "#plt.imshow(sharpened, cmap=plt.cm.gray)\n",
    "#plt.tight_layout()\n",
    "#plt.show()"
   ]
  },
  {
   "cell_type": "markdown",
   "metadata": {
    "collapsed": true
   },
   "source": [
    "#### Using built-in function"
   ]
  },
  {
   "cell_type": "code",
   "execution_count": 64,
   "metadata": {
    "collapsed": false
   },
   "outputs": [],
   "source": [
    "import Image                 \n",
    "import ImageFilter\n",
    "x = im_comp.filter(ImageFilter.SHARPEN)    \n",
    "#im_comp = Image.fromarray(x, 'RGB')\n",
    "#im_comp.show()\n",
    "#Image.filter(ImageFilter.EDGE_ENHANCE_MORE) \n",
    "\n",
    "plt.figure(figsize=(12, 4))\n",
    "plt.imshow(x, cmap=plt.cm.gray)\n",
    "plt.tight_layout()\n",
    "plt.show()\n",
    "\n",
    "# got similar resulting picture"
   ]
  },
  {
   "cell_type": "code",
   "execution_count": null,
   "metadata": {
    "collapsed": true
   },
   "outputs": [],
   "source": []
  }
 ],
 "metadata": {
  "kernelspec": {
   "display_name": "Python 2",
   "language": "python",
   "name": "python2"
  },
  "language_info": {
   "codemirror_mode": {
    "name": "ipython",
    "version": 2
   },
   "file_extension": ".py",
   "mimetype": "text/x-python",
   "name": "python",
   "nbconvert_exporter": "python",
   "pygments_lexer": "ipython2",
   "version": "2.7.10"
  }
 },
 "nbformat": 4,
 "nbformat_minor": 0
}
