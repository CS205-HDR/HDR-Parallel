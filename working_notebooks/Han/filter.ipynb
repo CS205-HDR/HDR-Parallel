{
 "cells": [
  {
   "cell_type": "code",
   "execution_count": 2,
   "metadata": {
    "collapsed": true
   },
   "outputs": [],
   "source": [
    "from PIL import Image\n",
    "import matplotlib.pyplot as plt\n",
    "#%matplotlib inline\n",
    "import numpy as np\n",
    "import scipy\n",
    "from scipy import ndimage\n",
    "import matplotlib.pyplot as plt"
   ]
  },
  {
   "cell_type": "code",
   "execution_count": 14,
   "metadata": {
    "collapsed": true
   },
   "outputs": [],
   "source": [
    "im0 = Image.open(\"orig_0.jpg\")\n",
    "im1 = Image.open(\"orig_1.jpg\")\n",
    "im2 = Image.open(\"orig_2.jpg\")\n",
    "im3 = Image.open(\"orig_3.jpg\")"
   ]
  },
  {
   "cell_type": "code",
   "execution_count": 15,
   "metadata": {
    "collapsed": false
   },
   "outputs": [
    {
     "data": {
      "text/plain": [
       "(816, 612)"
      ]
     },
     "execution_count": 15,
     "metadata": {},
     "output_type": "execute_result"
    }
   ],
   "source": [
    "im0.size"
   ]
  },
  {
   "cell_type": "code",
   "execution_count": 16,
   "metadata": {
    "collapsed": true
   },
   "outputs": [],
   "source": [
    "id0 = np.array(im0.getdata())\n",
    "id1 = np.array(im1.getdata())\n",
    "id2 = np.array(im2.getdata())\n",
    "id3 = np.array(im3.getdata())\n",
    "\n",
    "id_comp = (id0+id1+id2+id3)/4"
   ]
  },
  {
   "cell_type": "code",
   "execution_count": 3,
   "metadata": {
    "collapsed": false
   },
   "outputs": [],
   "source": [
    "x = Image.open(\"test.jpg\")\n",
    "xd = np.array(x.getdata())"
   ]
  },
  {
   "cell_type": "code",
   "execution_count": 4,
   "metadata": {
    "collapsed": false
   },
   "outputs": [
    {
     "data": {
      "text/plain": [
       "(48380, 3)"
      ]
     },
     "execution_count": 4,
     "metadata": {},
     "output_type": "execute_result"
    }
   ],
   "source": [
    "xd.shape"
   ]
  },
  {
   "cell_type": "code",
   "execution_count": 17,
   "metadata": {
    "collapsed": false
   },
   "outputs": [
    {
     "data": {
      "text/plain": [
       "1498176"
      ]
     },
     "execution_count": 17,
     "metadata": {},
     "output_type": "execute_result"
    }
   ],
   "source": [
    "id_comp.size"
   ]
  },
  {
   "cell_type": "code",
   "execution_count": 18,
   "metadata": {
    "collapsed": false
   },
   "outputs": [
    {
     "data": {
      "text/plain": [
       "array([[38, 34, 24],\n",
       "       [38, 33, 23],\n",
       "       [40, 35, 24],\n",
       "       ..., \n",
       "       [61, 54, 42],\n",
       "       [60, 55, 42],\n",
       "       [61, 55, 42]])"
      ]
     },
     "execution_count": 18,
     "metadata": {},
     "output_type": "execute_result"
    }
   ],
   "source": [
    "id_comp"
   ]
  },
  {
   "cell_type": "code",
   "execution_count": 19,
   "metadata": {
    "collapsed": false
   },
   "outputs": [],
   "source": [
    "id_comp2 = np.reshape(id_comp, (612,816,3)).astype(np.uint8)"
   ]
  },
  {
   "cell_type": "code",
   "execution_count": 20,
   "metadata": {
    "collapsed": false
   },
   "outputs": [
    {
     "data": {
      "text/plain": [
       "(612, 816, 3)"
      ]
     },
     "execution_count": 20,
     "metadata": {},
     "output_type": "execute_result"
    }
   ],
   "source": [
    "id_comp2.shape"
   ]
  },
  {
   "cell_type": "code",
   "execution_count": 21,
   "metadata": {
    "collapsed": false
   },
   "outputs": [],
   "source": [
    "im_comp = Image.fromarray(id_comp2, 'RGB')\n",
    "im_comp.show()"
   ]
  },
  {
   "cell_type": "code",
   "execution_count": 22,
   "metadata": {
    "collapsed": false
   },
   "outputs": [
    {
     "data": {
      "text/plain": [
       "(816, 612)"
      ]
     },
     "execution_count": 22,
     "metadata": {},
     "output_type": "execute_result"
    }
   ],
   "source": [
    "im_comp.size"
   ]
  },
  {
   "cell_type": "markdown",
   "metadata": {},
   "source": [
    "### ColorMatrix for Saturation"
   ]
  },
  {
   "cell_type": "code",
   "execution_count": 23,
   "metadata": {
    "collapsed": false
   },
   "outputs": [
    {
     "data": {
      "text/plain": [
       "array([[-0.2, -0. , -0. ],\n",
       "       [-0. , -0.2, -0. ],\n",
       "       [-0. , -0. , -0.2]])"
      ]
     },
     "execution_count": 23,
     "metadata": {},
     "output_type": "execute_result"
    }
   ],
   "source": [
    "orig_colorm = -0.2*np.array([[1,0,0], [0,1,0], [0,0,1]])\n",
    "orig_colorm"
   ]
  },
  {
   "cell_type": "code",
   "execution_count": 24,
   "metadata": {
    "collapsed": true
   },
   "outputs": [],
   "source": [
    "lumR = 0.3086\n",
    "lumG = 0.6094\n",
    "lumB = 0.0820\n",
    "s = 1.4 # saturation\n",
    "c = 1.3 # contrast"
   ]
  },
  {
   "cell_type": "code",
   "execution_count": 25,
   "metadata": {
    "collapsed": false
   },
   "outputs": [],
   "source": [
    "satu = np.array([[(1-s)*lumR+s, (1-s)*lumR, (1-s)*lumR], [(1-s)*lumG, (1-s)*lumG+s, (1-s)*lumG], [(1-s)*lumB, (1-s)*lumB, (1-s)*lumB+s]])"
   ]
  },
  {
   "cell_type": "code",
   "execution_count": 26,
   "metadata": {
    "collapsed": true
   },
   "outputs": [],
   "source": [
    "cont = np.array([[c,0,0], [0,c,0], [0,0,c]])"
   ]
  },
  {
   "cell_type": "code",
   "execution_count": 27,
   "metadata": {
    "collapsed": false
   },
   "outputs": [
    {
     "ename": "NameError",
     "evalue": "name 'new' is not defined",
     "output_type": "error",
     "traceback": [
      "\u001b[0;31m---------------------------------------------------------------------------\u001b[0m",
      "\u001b[0;31mNameError\u001b[0m                                 Traceback (most recent call last)",
      "\u001b[0;32m<ipython-input-27-c1190ca58e88>\u001b[0m in \u001b[0;36m<module>\u001b[0;34m()\u001b[0m\n\u001b[0;32m----> 1\u001b[0;31m \u001b[0mnew\u001b[0m\u001b[0;34m.\u001b[0m\u001b[0mshape\u001b[0m\u001b[0;34m\u001b[0m\u001b[0m\n\u001b[0m",
      "\u001b[0;31mNameError\u001b[0m: name 'new' is not defined"
     ]
    }
   ],
   "source": [
    "new.shape"
   ]
  },
  {
   "cell_type": "code",
   "execution_count": 28,
   "metadata": {
    "collapsed": false
   },
   "outputs": [
    {
     "data": {
      "text/plain": [
       "array([[-0.3319056,  0.0320944,  0.0320944],\n",
       "       [ 0.0633776, -0.3006224,  0.0633776],\n",
       "       [ 0.008528 ,  0.008528 , -0.355472 ]])"
      ]
     },
     "execution_count": 28,
     "metadata": {},
     "output_type": "execute_result"
    }
   ],
   "source": [
    "colorm = np.dot(np.dot(satu, cont), orig_colorm)\n",
    "colorm "
   ]
  },
  {
   "cell_type": "code",
   "execution_count": 29,
   "metadata": {
    "collapsed": false
   },
   "outputs": [
    {
     "data": {
      "text/plain": [
       "array([[-10.2529024,  -8.7969024,  -5.1569024],\n",
       "       [-10.324808 ,  -8.504808 ,  -4.864808 ],\n",
       "       [-10.853336 ,  -9.033336 ,  -5.029336 ],\n",
       "       ..., \n",
       "       [-16.4656752, -13.9176752,  -9.5496752],\n",
       "       [-16.070392 , -14.250392 ,  -9.518392 ],\n",
       "       [-16.4022976, -14.2182976,  -9.4862976]])"
      ]
     },
     "execution_count": 29,
     "metadata": {},
     "output_type": "execute_result"
    }
   ],
   "source": [
    "new = np.dot(id_comp, colorm)\n",
    "#new = np.dot(id_comp, orig_colorm)\n",
    "new"
   ]
  },
  {
   "cell_type": "code",
   "execution_count": 30,
   "metadata": {
    "collapsed": false
   },
   "outputs": [],
   "source": [
    "new2 = np.reshape(new, (612,816,3)).astype(np.uint8)"
   ]
  },
  {
   "cell_type": "code",
   "execution_count": 31,
   "metadata": {
    "collapsed": false
   },
   "outputs": [],
   "source": [
    "im_comp = Image.fromarray(new2, 'RGB')\n",
    "im_comp.show()"
   ]
  },
  {
   "cell_type": "code",
   "execution_count": null,
   "metadata": {
    "collapsed": true
   },
   "outputs": [],
   "source": []
  },
  {
   "cell_type": "code",
   "execution_count": 251,
   "metadata": {
    "collapsed": true
   },
   "outputs": [],
   "source": [
    "sr = (1 - s) * lumR\n",
    "sg = (1 - s) * lumG\n",
    "sb = (1 - s) * lumB"
   ]
  },
  {
   "cell_type": "code",
   "execution_count": 252,
   "metadata": {
    "collapsed": true
   },
   "outputs": [],
   "source": [
    "im_y, im_x = Image.open(\"orig_0.jpg\").size"
   ]
  },
  {
   "cell_type": "code",
   "execution_count": 259,
   "metadata": {
    "collapsed": false
   },
   "outputs": [
    {
     "name": "stdout",
     "output_type": "stream",
     "text": [
      "[[-0.12344 -0.24376 -0.0328 ]\n",
      " [-0.12344 -0.24376 -0.0328 ]\n",
      " [-0.12344 -0.24376 -0.0328 ]\n",
      " ..., \n",
      " [-0.12344 -0.24376 -0.0328 ]\n",
      " [-0.12344 -0.24376 -0.0328 ]\n",
      " [-0.12344 -0.24376 -0.0328 ]]\n"
     ]
    }
   ],
   "source": [
    "mask = np.zeros(shape=(im_x*im_y, 3)).astype(np.float32)\n",
    "for i in range(im_x*im_y):\n",
    "    for j in range(3):\n",
    "        if (j % 3 == 0):\n",
    "            mask[i,j] = sr\n",
    "        elif (j % 3 == 1):\n",
    "            mask[i,j] = sg\n",
    "        else:\n",
    "            mask[i,j] = sb\n",
    "print mask\n"
   ]
  },
  {
   "cell_type": "markdown",
   "metadata": {},
   "source": [
    "### Adding sharpening technique"
   ]
  },
  {
   "cell_type": "code",
   "execution_count": 7,
   "metadata": {
    "collapsed": false
   },
   "outputs": [],
   "source": [
    "#id3 = np.reshape(id_comp, (612,816,3)).astype(float)\n",
    "blurred_f = ndimage.gaussian_filter(id_comp2, 3)\n",
    "#blurred_f = ndimage.gaussian_filter(id3, 3)\n",
    "filter_blurred_f = ndimage.gaussian_filter(blurred_f, 1)\n",
    "alpha = 30\n",
    "sharpened = blurred_f + alpha * (blurred_f - filter_blurred_f)"
   ]
  },
  {
   "cell_type": "code",
   "execution_count": 8,
   "metadata": {
    "collapsed": false
   },
   "outputs": [],
   "source": [
    "im_comp = Image.fromarray(sharpened, 'RGB')\n",
    "im_comp.show()\n",
    "\n",
    "#plt.figure(figsize=(12, 4))\n",
    "#plt.imshow(sharpened, cmap=plt.cm.gray)\n",
    "#plt.tight_layout()\n",
    "#plt.show()"
   ]
  },
  {
   "cell_type": "markdown",
   "metadata": {
    "collapsed": true
   },
   "source": [
    "#### Using built-in function"
   ]
  },
  {
   "cell_type": "code",
   "execution_count": 20,
   "metadata": {
    "collapsed": false
   },
   "outputs": [
    {
     "name": "stderr",
     "output_type": "stream",
     "text": [
      "/Users/xinyanhan/Documents/anaconda/lib/python2.7/site-packages/matplotlib/tight_layout.py:225: UserWarning: tight_layout : falling back to Agg renderer\n",
      "  warnings.warn(\"tight_layout : falling back to Agg renderer\")\n"
     ]
    }
   ],
   "source": [
    "import Image                 \n",
    "import ImageFilter\n",
    "x = im_comp.filter(ImageFilter.SHARPEN)    \n",
    "#im_comp = Image.fromarray(x, 'RGB')\n",
    "#im_comp.show()\n",
    "#Image.filter(ImageFilter.EDGE_ENHANCE_MORE) \n",
    "\n",
    "plt.figure(figsize=(12, 4))\n",
    "plt.imshow(x, cmap=plt.cm.gray)\n",
    "plt.tight_layout()\n",
    "plt.show()\n",
    "\n",
    "# got similar resulting picture"
   ]
  },
  {
   "cell_type": "code",
   "execution_count": 24,
   "metadata": {
    "collapsed": false
   },
   "outputs": [
    {
     "data": {
      "text/plain": [
       "(816, 612)"
      ]
     },
     "execution_count": 24,
     "metadata": {},
     "output_type": "execute_result"
    }
   ],
   "source": [
    "im_comp.size"
   ]
  },
  {
   "cell_type": "code",
   "execution_count": 116,
   "metadata": {
    "collapsed": true
   },
   "outputs": [],
   "source": [
    "import scipy\n",
    "from scipy import ndimage\n",
    "import matplotlib.pyplot as plt\n",
    "\n",
    "f = scipy.misc.face(gray=True).astype(float)\n",
    "blurred_f = ndimage.gaussian_filter(f, 3)\n",
    "\n",
    "filter_blurred_f = ndimage.gaussian_filter(blurred_f, 1)\n",
    "\n",
    "alpha = 30\n",
    "sharpened = blurred_f + alpha * (blurred_f - filter_blurred_f)\n",
    "\n",
    "plt.figure(figsize=(12, 4))\n",
    "\n",
    "plt.subplot(131)\n",
    "plt.imshow(f, cmap=plt.cm.gray)\n",
    "plt.axis('off')\n",
    "plt.subplot(132)\n",
    "plt.imshow(blurred_f, cmap=plt.cm.gray)\n",
    "plt.axis('off')\n",
    "plt.subplot(133)\n",
    "plt.imshow(sharpened, cmap=plt.cm.gray)\n",
    "plt.axis('off')\n",
    "\n",
    "plt.tight_layout()\n",
    "plt.show()"
   ]
  },
  {
   "cell_type": "code",
   "execution_count": null,
   "metadata": {
    "collapsed": true
   },
   "outputs": [],
   "source": []
  },
  {
   "cell_type": "code",
   "execution_count": 32,
   "metadata": {
    "collapsed": false
   },
   "outputs": [],
   "source": [
    " mask = [[0, -1, 0], [-1, 5, -1], [0, -1, 0]]"
   ]
  },
  {
   "cell_type": "code",
   "execution_count": 34,
   "metadata": {
    "collapsed": false
   },
   "outputs": [
    {
     "data": {
      "text/plain": [
       "array([[ 0, -1,  0],\n",
       "       [-1,  5, -1],\n",
       "       [ 0, -1,  0]])"
      ]
     },
     "execution_count": 34,
     "metadata": {},
     "output_type": "execute_result"
    }
   ],
   "source": [
    "np.array(mask)"
   ]
  },
  {
   "cell_type": "code",
   "execution_count": 37,
   "metadata": {
    "collapsed": false
   },
   "outputs": [
    {
     "data": {
      "text/plain": [
       "(3, 3)"
      ]
     },
     "execution_count": 37,
     "metadata": {},
     "output_type": "execute_result"
    }
   ],
   "source": [
    "np.array([[0, -1, 0], [-1, 5, -1], [0, -1, 0]]).astype(np.float32).shape"
   ]
  },
  {
   "cell_type": "code",
   "execution_count": null,
   "metadata": {
    "collapsed": true
   },
   "outputs": [],
   "source": []
  }
 ],
 "metadata": {
  "kernelspec": {
   "display_name": "Python 2",
   "language": "python",
   "name": "python2"
  },
  "language_info": {
   "codemirror_mode": {
    "name": "ipython",
    "version": 2
   },
   "file_extension": ".py",
   "mimetype": "text/x-python",
   "name": "python",
   "nbconvert_exporter": "python",
   "pygments_lexer": "ipython2",
   "version": "2.7.10"
  }
 },
 "nbformat": 4,
 "nbformat_minor": 0
}
