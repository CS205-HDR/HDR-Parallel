{
 "cells": [
  {
   "cell_type": "code",
   "execution_count": 5,
   "metadata": {
    "collapsed": true
   },
   "outputs": [],
   "source": [
    "from PIL import Image\n",
    "import time\n",
    "%matplotlib inline\n",
    "import matplotlib.pyplot as plt\n",
    "from copy import copy"
   ]
  },
  {
   "cell_type": "code",
   "execution_count": 56,
   "metadata": {
    "collapsed": false
   },
   "outputs": [],
   "source": [
    "#imgs = [Image.open('../orig_0.jpg'), Image.open('../orig_1.jpg'), Image.open('../orig_2.jpg')]\n",
    "imgs = [Image.open('../../../testing_images/1_tree/Tree_1.JPG'),\n",
    "        Image.open('../../../testing_images/1_tree/Tree_2.JPG'),\n",
    "        Image.open('../../../testing_images/1_tree/Tree_3.JPG')]\n",
    "# imgs = [Image.open('../../../testing_images/3_Seashore/1.JPG'),\n",
    "#         Image.open('../../../testing_images/3_Seashore/2.JPG'),\n",
    "#         Image.open('../../../testing_images/3_Seashore/3.JPG')]\n",
    "# imgs = [Image.open('../../../testing_images/3_tree2/1.JPG'),\n",
    "#         Image.open('../../../testing_images/3_tree2/2.JPG'),\n",
    "#         Image.open('../../../testing_images/3_tree2/3.JPG')]"
   ]
  },
  {
   "cell_type": "code",
   "execution_count": 6,
   "metadata": {
    "collapsed": true
   },
   "outputs": [],
   "source": [
    "def bal(im):\n",
    "    \"\"\"\n",
    "    adjust the balance of the mask\n",
    "    (re-distribute the histogram so that there are more\n",
    "    extreme blacks and whites)\n",
    "    like increasing the contrast, but without clipping\n",
    "    and maintains overall average image brightness\n",
    "    \"\"\"\n",
    "    h = im.histogram()\n",
    "    ln = range(len(h))\n",
    "    up = [sum(h[0: i]) for i in ln]\n",
    "    lo = [sum(h[i:-1]) for i in ln]\n",
    "    ct = sum(h)\n",
    "    st = int(strength*255.)\n",
    "\n",
    "    lut = [i+st*up[i]*lo[i]*(up[i]-lo[i])/ct**3 for i in ln]\n",
    "    for i in ln:\n",
    "        if lut[i]<  1:lut[i]=  1\n",
    "        if lut[i]>255:lut[i]=255\n",
    "    return im.point(lut)"
   ]
  },
  {
   "cell_type": "code",
   "execution_count": 7,
   "metadata": {
    "collapsed": true
   },
   "outputs": [],
   "source": [
    "def get_masks(imgs):\n",
    "    \"\"\"\n",
    "    create a set of masks from a list of images\n",
    "    (one mask for every adjacent pair of images\n",
    "    \"\"\"\n",
    "    masks = []\n",
    "    mask_ct = len(imgs)-1\n",
    "    imgs = [bal(img.convert(mode='L'), strength) for img in imgs]\n",
    "    for i in range(mask_ct):\n",
    "        blend_fraction = .5     #1. - (float(i)+.5)/float(mask_ct)\n",
    "        m = Image.blend(imgs[i],imgs[i+1],blend_fraction)\n",
    "        masks.append(m)\n",
    "        #print blend_fraction\n",
    "    print 'blending using',mask_ct,'masks'\n",
    "    return masks"
   ]
  },
  {
   "cell_type": "code",
   "execution_count": 8,
   "metadata": {
    "collapsed": true
   },
   "outputs": [],
   "source": [
    "def merge(imgs):\n",
    "    \"\"\"\n",
    "    combine a set images into a smaller set by combinding all\n",
    "    adjacent images\n",
    "    \"\"\"\n",
    "    masks = get_masks(imgs)\n",
    "    imx = lambda i:Image.composite(imgs[i],imgs[i+1],masks[i])\n",
    "    return [imx(i) for i in range(len(masks))]"
   ]
  },
  {
   "cell_type": "code",
   "execution_count": 9,
   "metadata": {
    "collapsed": true
   },
   "outputs": [],
   "source": [
    "def merge_all(imgs):\n",
    "    \"\"\"\n",
    "    iteratively merge a set of images until only one remains\n",
    "    \"\"\"\n",
    "    while len(imgs)>1:\n",
    "        imgs = merge(imgs)\n",
    "    return imgs[0]"
   ]
  },
  {
   "cell_type": "code",
   "execution_count": 48,
   "metadata": {
    "collapsed": false
   },
   "outputs": [],
   "source": [
    "strength = 1\n",
    "\n",
    "def get_hdr(imgs_o, strgth=0, naturalness=0):\n",
    "    \"\"\"\n",
    "    process the hdr image(s)\n",
    "    strength - a list or a float that defines how strong the hdr\n",
    "               effect should be\n",
    "             - a value of zero will combine images by using a\n",
    "               greyscale image average\n",
    "             - a value greater than zero will use higher contrast\n",
    "               versions of those greyscale images\n",
    "    naturalness- values between zero and one\n",
    "             - zero will be a very high-contrast image\n",
    "             - 1.0 will be a very flat image\n",
    "             - 0.7 to 0.9 tend to give the best results\n",
    "    \"\"\"\n",
    "    print 'getting saturation image'\n",
    "    global strength\n",
    "    strength= strgth\n",
    "    imgs = copy(imgs_o)\n",
    "    sat_img = merge_all(imgs)\n",
    "\n",
    "    print 'getting contrast image'\n",
    "    imgs.reverse()\n",
    "    con_img = merge_all(imgs)\n",
    "\n",
    "    fin = final_blend(con_img,sat_img, naturalness)\n",
    "    \n",
    "    fin.show()\n",
    "\n",
    "\n",
    "def final_blend(im1,im2,naturalness):\n",
    "    \"\"\"\n",
    "    combines a saturated image with a contrast image\n",
    "    and puts them in a dictionary of completed images\n",
    "    \"\"\"\n",
    "    return Image.blend(im1,im2,naturalness)"
   ]
  },
  {
   "cell_type": "code",
   "execution_count": 59,
   "metadata": {
    "collapsed": false,
    "scrolled": true
   },
   "outputs": [
    {
     "name": "stdout",
     "output_type": "stream",
     "text": [
      "getting saturation image\n",
      "blending using 2 masks\n",
      "blending using 1 masks\n",
      "getting contrast image\n",
      "blending using 2 masks\n",
      "blending using 1 masks\n",
      "CPU times: user 1.25 s, sys: 93.3 ms, total: 1.34 s\n",
      "Wall time: 1.37 s\n"
     ]
    }
   ],
   "source": [
    "%%time\n",
    "get_hdr(imgs,1,1)"
   ]
  },
  {
   "cell_type": "code",
   "execution_count": null,
   "metadata": {
    "collapsed": true
   },
   "outputs": [],
   "source": []
  },
  {
   "cell_type": "code",
   "execution_count": null,
   "metadata": {
    "collapsed": true
   },
   "outputs": [],
   "source": []
  }
 ],
 "metadata": {
  "kernelspec": {
   "display_name": "Python 2",
   "language": "python",
   "name": "python2"
  },
  "language_info": {
   "codemirror_mode": {
    "name": "ipython",
    "version": 2
   },
   "file_extension": ".py",
   "mimetype": "text/x-python",
   "name": "python",
   "nbconvert_exporter": "python",
   "pygments_lexer": "ipython2",
   "version": "2.7.10"
  }
 },
 "nbformat": 4,
 "nbformat_minor": 0
}
