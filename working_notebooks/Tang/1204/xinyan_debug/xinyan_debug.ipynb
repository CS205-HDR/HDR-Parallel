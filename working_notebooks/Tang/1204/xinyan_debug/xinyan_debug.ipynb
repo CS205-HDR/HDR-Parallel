{
 "cells": [
  {
   "cell_type": "code",
   "execution_count": 1,
   "metadata": {
    "collapsed": true
   },
   "outputs": [],
   "source": [
    "from __future__ import division\n",
    "import pyopencl as cl\n",
    "import numpy as np\n",
    "import pylab\n",
    "from PIL import Image\n",
    "import matplotlib.pyplot as plt\n",
    "import scipy\n",
    "from scipy import ndimage\n",
    "%matplotlib inline"
   ]
  },
  {
   "cell_type": "code",
   "execution_count": 42,
   "metadata": {
    "collapsed": true
   },
   "outputs": [],
   "source": [
    "def round_up(global_size, group_size):\n",
    "    r = global_size % group_size\n",
    "    if r == 0:\n",
    "        return global_size\n",
    "    return global_size + group_size - r\n"
   ]
  },
  {
   "cell_type": "code",
   "execution_count": 74,
   "metadata": {
    "collapsed": false
   },
   "outputs": [
    {
     "name": "stdout",
     "output_type": "stream",
     "text": [
      "The platforms detected are:\n",
      "---------------------------\n",
      "Apple Apple version: OpenCL 1.2 (Sep 20 2014 22:01:02)\n",
      "The devices detected on platform Apple are:\n",
      "---------------------------\n",
      "Intel(R) Core(TM) i5-4258U CPU @ 2.40GHz [Type: CPU ]\n",
      "Maximum clock Frequency: 2400 MHz\n",
      "Maximum allocable memory size: 2147 MB\n",
      "Maximum work group size 1024\n",
      "---------------------------\n",
      "Iris [Type: GPU ]\n",
      "Maximum clock Frequency: 1100 MHz\n",
      "Maximum allocable memory size: 402 MB\n",
      "Maximum work group size 512\n",
      "---------------------------\n",
      "This context is associated with  2 devices\n",
      "The queue is using the device: Iris\n",
      "[[ 0.  0.  0.]\n",
      " [ 0.  1.  0.]\n",
      " [ 0.  0.  0.]]\n"
     ]
    }
   ],
   "source": [
    "platforms = cl.get_platforms()\n",
    "print 'The platforms detected are:'\n",
    "print '---------------------------'\n",
    "for platform in platforms:\n",
    "    print platform.name, platform.vendor, 'version:', platform.version\n",
    "\n",
    "# List devices in each platform\n",
    "for platform in platforms:\n",
    "    print 'The devices detected on platform', platform.name, 'are:'\n",
    "    print '---------------------------'\n",
    "    for device in platform.get_devices():\n",
    "        print device.name, '[Type:', cl.device_type.to_string(device.type), ']'\n",
    "        print 'Maximum clock Frequency:', device.max_clock_frequency, 'MHz'\n",
    "        print 'Maximum allocable memory size:', int(device.max_mem_alloc_size / 1e6), 'MB'\n",
    "        print 'Maximum work group size', device.max_work_group_size\n",
    "        print '---------------------------'\n",
    "\n",
    "# Create a context with all the devices\n",
    "devices = platforms[0].get_devices()\n",
    "context = cl.Context(devices)\n",
    "print 'This context is associated with ', len(context.devices), 'devices'\n",
    "\n",
    "queue = cl.CommandQueue(context, context.devices[0],\n",
    "                        properties=cl.command_queue_properties.PROFILING_ENABLE)\n",
    "print 'The queue is using the device:', queue.device.name\n",
    "\n",
    "program = cl.Program(context, open('HDR_mask.cl').read()).build(options='')\n",
    "\n",
    "\n",
    "im0 = scipy.misc.imread('test_large.jpg', flatten=True)\n",
    "him0 = im0.copy()\n",
    "him0 = np.array(him0, dtype=np.float32)\n",
    "him0.shape\n",
    "mask = np.array([[0, 0, 0], [0, 1, 0], [0, 0, 0]]).astype(np.float32)\n",
    "\n",
    "print mask\n",
    "out = np.zeros_like(him0).astype(np.float32)\n",
    "gpu_0 = cl.Buffer(context, cl.mem_flags.READ_ONLY, him0.size * 4)\n",
    "gpu_out = cl.Buffer(context, cl.mem_flags.WRITE_ONLY, out.size * 4)\n",
    "# gpu of mask\n",
    "gpu_mask = cl.Buffer(context, cl.mem_flags.READ_ONLY, mask.size * 4)\n",
    "\n",
    "cl.enqueue_copy(queue, gpu_0, him0, is_blocking=False)\n",
    "cl.enqueue_copy(queue, gpu_mask, mask, is_blocking=False)\n",
    "#cl.enqueue_copy(queue, gpu_sat, saturation, is_blocking=False)\n",
    "\n",
    "\n",
    "local_size = (8, 8)\n",
    "global_size = tuple([round_up(g, l) for g, l in zip(him0.shape[::-1], local_size)])\n",
    "\n",
    "width = np.int32(him0.shape[1])\n",
    "height = np.int32(him0.shape[0])\n",
    "halo = np.int32(1)\n",
    "\n",
    "\n",
    "event = program.mask_nobuffer(queue, global_size, local_size,\n",
    "                           gpu_0, gpu_mask, gpu_out,\n",
    "                           width, height, np.int32(mask.shape[1]), np.int32(mask.shape[0]))\n",
    "\n",
    "cl.enqueue_copy(queue, out, gpu_out, is_blocking=True)\n",
    "\n",
    "seconds = (event.profile.end - event.profile.start) / 1e9\n"
   ]
  },
  {
   "cell_type": "code",
   "execution_count": 75,
   "metadata": {
    "collapsed": true
   },
   "outputs": [],
   "source": [
    "gshow = lambda img: plt.imshow(img.astype(int), cmap = plt.get_cmap('gray'))"
   ]
  },
  {
   "cell_type": "code",
   "execution_count": 76,
   "metadata": {
    "collapsed": false
   },
   "outputs": [
    {
     "data": {
      "text/plain": [
       "(3648, 5472)"
      ]
     },
     "execution_count": 76,
     "metadata": {},
     "output_type": "execute_result"
    }
   ],
   "source": [
    "him0.shape"
   ]
  },
  {
   "cell_type": "code",
   "execution_count": 80,
   "metadata": {
    "collapsed": false
   },
   "outputs": [
    {
     "data": {
      "text/plain": [
       "array([[  89.        ,   86.        ,   84.        , ...,  113.80599976,\n",
       "         113.81700134,  112.81700134],\n",
       "       [  88.        ,   85.        ,   83.        , ...,  113.80599976,\n",
       "         113.81700134,  113.81700134],\n",
       "       [  86.        ,   84.        ,   82.        , ...,  114.80599976,\n",
       "         114.81700134,  114.81700134],\n",
       "       ..., \n",
       "       [ 117.69499969,  133.16799927,  134.8690033 , ...,  109.72899628,\n",
       "         108.72899628,  108.72899628],\n",
       "       [ 110.69499969,  127.16799927,  135.16799927, ...,  112.72899628,\n",
       "         110.72899628,  110.72899628],\n",
       "       [ 113.69499969,  125.69499969,  131.16799927, ...,  116.72899628,\n",
       "         114.72899628,  114.72899628]], dtype=float32)"
      ]
     },
     "execution_count": 80,
     "metadata": {},
     "output_type": "execute_result"
    }
   ],
   "source": [
    "him0"
   ]
  },
  {
   "cell_type": "code",
   "execution_count": 78,
   "metadata": {
    "collapsed": false
   },
   "outputs": [
    {
     "data": {
      "text/plain": [
       "array([[  89.        ,   86.        ,   84.        , ...,  113.80599976,\n",
       "         113.81700134,  112.81700134],\n",
       "       [  88.        ,   85.        ,   83.        , ...,  113.80599976,\n",
       "         113.81700134,  113.81700134],\n",
       "       [  86.        ,   84.        ,   82.        , ...,  114.80599976,\n",
       "         114.81700134,  114.81700134],\n",
       "       ..., \n",
       "       [ 117.69499969,  133.16799927,  134.8690033 , ...,  109.72899628,\n",
       "         108.72899628,  108.72899628],\n",
       "       [ 110.69499969,  127.16799927,  135.16799927, ...,  112.72899628,\n",
       "         110.72899628,  110.72899628],\n",
       "       [ 113.69499969,  125.69499969,  131.16799927, ...,  116.72899628,\n",
       "         114.72899628,  114.72899628]], dtype=float32)"
      ]
     },
     "execution_count": 78,
     "metadata": {},
     "output_type": "execute_result"
    }
   ],
   "source": [
    "out"
   ]
  },
  {
   "cell_type": "code",
   "execution_count": 81,
   "metadata": {
    "collapsed": false
   },
   "outputs": [
    {
     "data": {
      "text/plain": [
       "array([[ True,  True,  True, ...,  True,  True,  True],\n",
       "       [ True,  True,  True, ...,  True,  True,  True],\n",
       "       [ True,  True,  True, ...,  True,  True,  True],\n",
       "       ..., \n",
       "       [ True,  True,  True, ...,  True,  True,  True],\n",
       "       [ True,  True,  True, ...,  True,  True,  True],\n",
       "       [ True,  True,  True, ...,  True,  True,  True]], dtype=bool)"
      ]
     },
     "execution_count": 81,
     "metadata": {},
     "output_type": "execute_result"
    }
   ],
   "source": [
    "out==him0"
   ]
  },
  {
   "cell_type": "code",
   "execution_count": 84,
   "metadata": {
    "collapsed": true
   },
   "outputs": [],
   "source": [
    "import copy"
   ]
  },
  {
   "cell_type": "code",
   "execution_count": 88,
   "metadata": {
    "collapsed": false
   },
   "outputs": [],
   "source": [
    "from PIL import Image"
   ]
  },
  {
   "cell_type": "code",
   "execution_count": 90,
   "metadata": {
    "collapsed": true
   },
   "outputs": [],
   "source": [
    "new = Image.fromarray(out)"
   ]
  },
  {
   "cell_type": "code",
   "execution_count": 91,
   "metadata": {
    "collapsed": true
   },
   "outputs": [],
   "source": [
    "new.show()"
   ]
  },
  {
   "cell_type": "code",
   "execution_count": 92,
   "metadata": {
    "collapsed": false,
    "scrolled": true
   },
   "outputs": [
    {
     "data": {
      "text/plain": [
       "<matplotlib.image.AxesImage at 0x117ad6d10>"
      ]
     },
     "execution_count": 92,
     "metadata": {},
     "output_type": "execute_result"
    },
    {
     "data": {
      "image/png": "[encoded data removed]",
      "text/plain": [
       "<matplotlib.figure.Figure at 0x10f3fc150>"
      ]
     },
     "metadata": {},
     "output_type": "display_data"
    }
   ],
   "source": [
    "gshow(out)"
   ]
  },
  {
   "cell_type": "code",
   "execution_count": 62,
   "metadata": {
    "collapsed": false
   },
   "outputs": [],
   "source": [
    "temp = out.copy()"
   ]
  },
  {
   "cell_type": "code",
   "execution_count": 64,
   "metadata": {
    "collapsed": false,
    "scrolled": true
   },
   "outputs": [
    {
     "data": {
      "text/plain": [
       "<matplotlib.image.AxesImage at 0x10f26d510>"
      ]
     },
     "execution_count": 64,
     "metadata": {},
     "output_type": "execute_result"
    },
    {
     "data": {
      "image/png": "[encoded data removed]",
      "text/plain": [
       "<matplotlib.figure.Figure at 0x10d681890>"
      ]
     },
     "metadata": {},
     "output_type": "display_data"
    }
   ],
   "source": [
    "gshow(temp.astype(int))"
   ]
  },
  {
   "cell_type": "code",
   "execution_count": null,
   "metadata": {
    "collapsed": false
   },
   "outputs": [
    {
     "name": "stdout",
     "output_type": "stream",
     "text": [
      "The platforms detected are:\n",
      "---------------------------\n",
      "Apple Apple version: OpenCL 1.2 (Sep 20 2014 22:01:02)\n",
      "The devices detected on platform Apple are:\n",
      "---------------------------\n",
      "Intel(R) Core(TM) i5-4258U CPU @ 2.40GHz [Type: CPU ]\n",
      "Maximum clock Frequency: 2400 MHz\n",
      "Maximum allocable memory size: 2147 MB\n",
      "Maximum work group size 1024\n",
      "---------------------------\n",
      "Iris [Type: GPU ]\n",
      "Maximum clock Frequency: 1100 MHz\n",
      "Maximum allocable memory size: 402 MB\n",
      "Maximum work group size 512\n",
      "---------------------------\n",
      "This context is associated with  2 devices\n",
      "The queue is using the device: Iris\n",
      "[[ 0.  0.  0.]\n",
      " [ 0.  1.  0.]\n",
      " [ 0.  0.  0.]]\n",
      "0.0 Million Complex FMAs in -34.71907272 seconds, -0.0 million Complex FMAs / second"
     ]
    }
   ],
   "source": [
    "# This is the mask adding version with halo\n",
    "def round_up(global_size, group_size):\n",
    "    r = global_size % group_size\n",
    "    if r == 0:\n",
    "        return global_size\n",
    "    return global_size + group_size - r\n",
    "\n",
    "\n",
    "if __name__ == '__main__':\n",
    "    # List our platforms\n",
    "    platforms = cl.get_platforms()\n",
    "    print 'The platforms detected are:'\n",
    "    print '---------------------------'\n",
    "    for platform in platforms:\n",
    "        print platform.name, platform.vendor, 'version:', platform.version\n",
    "\n",
    "    # List devices in each platform\n",
    "    for platform in platforms:\n",
    "        print 'The devices detected on platform', platform.name, 'are:'\n",
    "        print '---------------------------'\n",
    "        for device in platform.get_devices():\n",
    "            print device.name, '[Type:', cl.device_type.to_string(device.type), ']'\n",
    "            print 'Maximum clock Frequency:', device.max_clock_frequency, 'MHz'\n",
    "            print 'Maximum allocable memory size:', int(device.max_mem_alloc_size / 1e6), 'MB'\n",
    "            print 'Maximum work group size', device.max_work_group_size\n",
    "            print '---------------------------'\n",
    "\n",
    "    # Create a context with all the devices\n",
    "    devices = platforms[0].get_devices()\n",
    "    context = cl.Context(devices)\n",
    "    print 'This context is associated with ', len(context.devices), 'devices'\n",
    "\n",
    "    # Create a queue for transferring data and launching computations.\n",
    "    # Turn on profiling to allow us to check event times.\n",
    "    queue = cl.CommandQueue(context, context.devices[0],\n",
    "                            properties=cl.command_queue_properties.PROFILING_ENABLE)\n",
    "    print 'The queue is using the device:', queue.device.name\n",
    "\n",
    "    program = cl.Program(context, open('HDR_mask.cl').read()).build(options='')\n",
    "\n",
    "\n",
    "    im0 = #np.array(Image.open(\"test_large.jpg\").getdata())\n",
    "    him0 = im0.astype(np.float32).copy()\n",
    "\n",
    "    #print 'him0 shape: ', him0\n",
    "    # get size of him0\n",
    "    #im_x, im_y = him0.shape\n",
    "\n",
    "    # create an identity mask array\n",
    "    #mask = np.zeros(shape=(612*612, 3))\n",
    "    #for i in range(612):\n",
    "    #    mask[612*i+i,:]=0.5\n",
    "\n",
    "    # mask that takes 1/2 for each pixal\n",
    "    #mask = 0.5*np.ones(shape=(499392, 3)).astype(np.float32)\n",
    "\n",
    "    #lumR = 0.2125\n",
    "    # lumG = 0.7154\n",
    "    # lumB = 0.0721\n",
    "    # # saturation parameter\n",
    "    # s = 1.4\n",
    "    # sr = (1 - s) * lumR\n",
    "    # sg = (1 - s) * lumG\n",
    "    # sb = (1 - s) * lumB\n",
    "    # create mask matrix\n",
    "    #mask = [[sr+s, sr, sr], [sg, sg+s, sg], [sb, sb, sb+s]].astype(np.float32)\n",
    "    # sharpen\n",
    "    #mask = np.array([[0, -1, 0], [-1, 5, -1], [0, -1, 0]]).astype(np.float32)\n",
    "    mask = np.array([[0, 0, 0], [0, 1, 0], [0, 0, 0]]).astype(np.float32)\n",
    "\n",
    "    print mask\n",
    "    #print 'mask shape: ', mask.shape\n",
    "\n",
    "    #saturation = s*np.ones_like(him0).astype(np.float32)\n",
    "\n",
    "    out = np.zeros_like(him0).astype(np.float32)\n",
    "\n",
    "    gpu_0 = cl.Buffer(context, cl.mem_flags.READ_ONLY, him0.size * 4)\n",
    "    gpu_out = cl.Buffer(context, cl.mem_flags.WRITE_ONLY, out.size * 4)\n",
    "    # gpu of mask\n",
    "    gpu_mask = cl.Buffer(context, cl.mem_flags.WRITE_ONLY, mask.size * 4)\n",
    "\n",
    "    cl.enqueue_copy(queue, gpu_0, him0, is_blocking=False)\n",
    "    cl.enqueue_copy(queue, gpu_mask, mask, is_blocking=False)\n",
    "    #cl.enqueue_copy(queue, gpu_sat, saturation, is_blocking=False)\n",
    "\n",
    "\n",
    "    local_size = (8, 8)  # 64 pixels per work group\n",
    "    global_size = tuple([round_up(g, l) for g, l in zip(him0.shape[::-1], local_size)])\n",
    "\n",
    "    width = np.int32(him0.shape[1]) # 3\n",
    "    height = np.int32(him0.shape[0]) # 499392\n",
    "    halo = np.int32(1)\n",
    "\n",
    "    # Set up a (N+2 x N+2) local memory buffer.\n",
    "    # +2 for 1-pixel halo on all sides, 4 bytes for float.\n",
    "    buf_size = (np.int32(local_size[0] + 2 * halo), np.int32(local_size[1] + 2 * halo))\n",
    "    buf_w = np.int32(local_size[0] + 2)\n",
    "    buf_h = np.int32(local_size[1] + 2)\n",
    "    local_memory = cl.LocalMemory(4 * buf_size[0] * buf_size[1])\n",
    "    # Each work group will have its own private buffer.\n",
    "\n",
    "\n",
    "    event = program.mask(queue, global_size, local_size,\n",
    "                               gpu_0, gpu_mask, gpu_out, local_memory,\n",
    "                               buf_size[0], buf_size[1], width, height, halo)\n",
    "\n",
    "    cl.enqueue_copy(queue, a, gpu_out, is_blocking=True)\n",
    "\n",
    "    seconds = (event.profile.end - event.profile.start) / 1e9\n",
    "    print(\"{} Million Complex FMAs in {} seconds, {} million Complex FMAs / second\".format(out.sum() / 1e6, seconds, (out.sum() / seconds) / 1e6))\n",
    "\n",
    "\n",
    "\n",
    "    #print out\n",
    "    #out = np.reshape(out, (612,816,3)).astype(np.uint8)\n",
    "    #out_f = Image.fromarray(out, 'RGB')\n",
    "    #out_f.show()\n",
    "\n",
    "    print out\n",
    "    pylab.imshow(out)\n",
    "    pylab.show()"
   ]
  },
  {
   "cell_type": "code",
   "execution_count": null,
   "metadata": {
    "collapsed": true
   },
   "outputs": [],
   "source": []
  }
 ],
 "metadata": {
  "kernelspec": {
   "display_name": "Python 2",
   "language": "python",
   "name": "python2"
  },
  "language_info": {
   "codemirror_mode": {
    "name": "ipython",
    "version": 2
   },
   "file_extension": ".py",
   "mimetype": "text/x-python",
   "name": "python",
   "nbconvert_exporter": "python",
   "pygments_lexer": "ipython2",
   "version": "2.7.10"
  }
 },
 "nbformat": 4,
 "nbformat_minor": 0
}
